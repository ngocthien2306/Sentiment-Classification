{
 "cells": [
  {
   "attachments": {},
   "cell_type": "markdown",
   "metadata": {},
   "source": [
    "Trong notebook này, chúng ta sẽ thử quy trình lập trình RNN với Keras để phân loại các câu văn bản.\n",
    "\n",
    "I.   **Trước tiên**, chúng ta sẽ nhập các thư viện hữu ích.\n",
    "\n",
    "II.   **Sau đó**, chúng ta sẽ load dữ liệu và tạo ma trận word embedding bằng Glove.\n",
    "\n",
    "III.  **Chúng ta sẽ thử một mô hình RNN đơn giản** rồi đánh giá chất lượng của nó.\n",
    "\n",
    "IV. Cuối cùng, chúng ta sẽ sử dụng các kỹ thuật để gia tăng độ chính xác của mô hình."
   ]
  },
  {
   "attachments": {},
   "cell_type": "markdown",
   "metadata": {},
   "source": [
    "Thiết lập GPU miễn phí trong sổ ghi chép này.\n",
    "\n",
    "Để thiết lập GPU miễn phí trong sổ ghi chép này, bạn có thể thực hiện theo các bước bên dưới:\n",
    "\n",
    "     Nhấp vào tab \"Thời gian chạy\" trong menu.\n",
    "     Chọn \"Thay đổi loại thời gian chạy\" từ menu thả xuống.\n",
    "     Trong phần \"Trình tăng tốc phần cứng\", chọn \"GPU\" làm trình tăng tốc phần cứng.\n",
    "     Nhấp vào nút \"Lưu\".\n",
    "\n",
    "Bằng cách làm theo các bước này, bạn sẽ có thể thiết lập GPU Miễn phí để chạy mã của mình trong sổ ghi chép này. Hãy nhớ rằng tính khả dụng của GPU miễn phí có thể khác nhau tùy thuộc vào nền tảng và mức sử dụng hiện tại."
   ]
  },
  {
   "cell_type": "code",
   "execution_count": null,
   "metadata": {},
   "outputs": [],
   "source": [
    "# click Runtime -> Change Runtime Type -> Hardware accelerator -> GPU\n",
    "import tensorflow as tf\n",
    "print(\"GPU Available: \", tf.config.list_physical_devices('GPU'))"
   ]
  },
  {
   "attachments": {},
   "cell_type": "markdown",
   "metadata": {},
   "source": [
    "## Gắn Google Drive cục bộ\n",
    "**Task 2:** Gắn Google vào Google Colab Driver.\n",
    " "
   ]
  },
  {
   "cell_type": "code",
   "execution_count": null,
   "metadata": {},
   "outputs": [],
   "source": [
    "## VIẾT CODE cho task 2 ở đây:\n",
    "from google.colab import drive\n",
    "drive.mount('/content/drive')"
   ]
  },
  {
   "attachments": {},
   "cell_type": "markdown",
   "metadata": {},
   "source": [
    "# I. Nhập tất cả các thư viện hữu ích."
   ]
  },
  {
   "cell_type": "code",
   "execution_count": null,
   "metadata": {},
   "outputs": [],
   "source": [
    "import sys, os, re, csv, codecs, numpy as np, pandas as pd\n",
    "import tensorflow.keras as keras\n",
    "import datetime\n",
    "import tensorflow as tf\n",
    "from tensorflow.keras import backend as K\n",
    "import tensorflow.keras.optimizers as Optimizer\n",
    "from tensorflow.keras.utils import to_categorical\n",
    "from tensorflow.keras.callbacks import ModelCheckpoint, TensorBoard, EarlyStopping, ReduceLROnPlateau\n",
    "from tensorflow.keras.preprocessing.text import Tokenizer\n",
    "from tensorflow.keras.preprocessing.sequence import pad_sequences\n",
    "from tensorflow.keras.layers import Dense, Input, LSTM, Embedding, Dropout, Activation\n",
    "from tensorflow.keras.layers import Bidirectional, GlobalMaxPool1D, GlobalMaxPooling1D\n",
    "from tensorflow.keras.models import Model, load_model\n",
    "import tensorflow_addons as tfa\n",
    "\n",
    "from tensorflow.keras import initializers, regularizers, constraints, optimizers, layers\n",
    "from sklearn.metrics import confusion_matrix as CM\n",
    "from sklearn.metrics import confusion_matrix, f1_score, precision_score, recall_score\n",
    "import matplotlib.pyplot as plot\n",
    "import seaborn as sns"
   ]
  }
 ],
 "metadata": {
  "kernelspec": {
   "display_name": "Python 3",
   "language": "python",
   "name": "python3"
  },
  "language_info": {
   "name": "python",
   "version": "3.11.3"
  },
  "orig_nbformat": 4
 },
 "nbformat": 4,
 "nbformat_minor": 2
}
